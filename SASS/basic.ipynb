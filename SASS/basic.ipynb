{
 "cells": [
  {
   "cell_type": "markdown",
   "metadata": {},
   "source": [
    "## Introduction\n",
    "\n",
    "1. Sass is basically CSS pre-processor.\n",
    "2. Sass helps to reduces repetition of CSS and therefore saves time."
   ]
  },
  {
   "cell_type": "markdown",
   "metadata": {},
   "source": [
    "### Prerequsites You Should Already Know\n",
    "\n",
    "1. HTML (Basic website design)\n",
    "2. CSS (Intermediate knowledge on css properties)"
   ]
  },
  {
   "cell_type": "markdown",
   "metadata": {},
   "source": [
    "### What is SASS ?\n",
    "\n",
    "- Sass stands for Syntactically Awesome Stylesheet\n",
    "- Sass is an extension to CSS\n",
    "- Sass was designed by Hampton Catlin and developed by Natalie Weizenbaum in 2006\n",
    "- Sass is free to download and use\n",
    "- Sass files has the \".scss\" file extension.\n",
    "\n"
   ]
  },
  {
   "cell_type": "markdown",
   "metadata": {},
   "source": [
    "### Uses of Sass?\n",
    "\n",
    "- As now-a-days the websites are becoming more complex and dynamic the stylesheets are getting larger, more complex, and difficult to maintain. This is where a CSS pre-processor comes into action.\n",
    "\n",
    "- It provide features that are not present in CSS, like variables, nested rules, imports, built-in functions, and other stuff."
   ]
  },
  {
   "cell_type": "markdown",
   "metadata": {},
   "source": [
    "### Insatallation\n",
    "\n",
    "*Sass Requirements*\n",
    " \n",
    "1. Operating system - Sass is platform independent\n",
    "2. Browser support - Sass works in Safari, Opera, Edge, Firefox, Chrome,\n",
    "3. Programming language - Sass is based on Ruby"
   ]
  },
  {
   "cell_type": "markdown",
   "metadata": {},
   "source": [
    "There are several ways to install Sass in your system. There are many applications that will get you up and running with Sass in a few minutes for Mac, Windows, and Linux. Some of these are free, but some are paid apps.\n",
    "\n",
    "*You can read more about them here:* sass-lang.com/install"
   ]
  },
  {
   "cell_type": "markdown",
   "metadata": {},
   "source": [
    "**Mac install**(Homebrew)\n",
    "- brew install sass/sass/sass\n",
    "\n",
    "**Windows install**(Chocolatey)\n",
    "- choco install sass"
   ]
  }
 ],
 "metadata": {
  "kernelspec": {
   "display_name": "Python 3",
   "language": "python",
   "name": "python3"
  },
  "language_info": {
   "name": "python",
   "version": "3.9.7"
  },
  "orig_nbformat": 4
 },
 "nbformat": 4,
 "nbformat_minor": 2
}
